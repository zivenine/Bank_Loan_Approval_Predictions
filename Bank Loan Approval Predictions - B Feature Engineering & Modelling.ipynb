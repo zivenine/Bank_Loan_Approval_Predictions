{
 "cells": [
  {
   "cell_type": "markdown",
   "metadata": {},
   "source": [
    "# Scaling, sampling and modelling"
   ]
  },
  {
   "cell_type": "code",
   "execution_count": 1,
   "metadata": {},
   "outputs": [],
   "source": [
    "import pandas as pd\n",
    "import numpy as np \n",
    "\n",
    "from sklearn.model_selection import train_test_split\n",
    "from sklearn.model_selection import cross_val_score\n",
    "from sklearn.metrics import accuracy_score\n",
    "from sklearn.preprocessing import StandardScaler\n",
    "from sklearn.preprocessing import RobustScaler\n",
    "from sklearn.feature_selection import RFE\n",
    "from sklearn.linear_model import LogisticRegression\n",
    "from sklearn.svm import SVC\n",
    "from imblearn.over_sampling import SMOTE\n",
    "from sklearn.metrics import confusion_matrix\n",
    "from sklearn.metrics import classification_report\n",
    "from sklearn.model_selection import GridSearchCV\n",
    "\n",
    "pd.set_option('display.max_columns', None)"
   ]
  },
  {
   "cell_type": "code",
   "execution_count": 2,
   "metadata": {},
   "outputs": [
    {
     "name": "stdout",
     "output_type": "stream",
     "text": [
      "<class 'pandas.core.frame.DataFrame'>\n",
      "RangeIndex: 68797 entries, 0 to 68796\n",
      "Data columns (total 21 columns):\n",
      " #   Column                               Non-Null Count  Dtype  \n",
      "---  ------                               --------------  -----  \n",
      " 0   Gender                               68797 non-null  object \n",
      " 1   DOB                                  68797 non-null  object \n",
      " 2   Lead_Creation_Date                   68797 non-null  object \n",
      " 3   City_Code                            68797 non-null  object \n",
      " 4   City_Category                        68797 non-null  object \n",
      " 5   Employer_Category1                   68797 non-null  object \n",
      " 6   Employer_Category2                   68797 non-null  float64\n",
      " 7   Monthly_Income                       68797 non-null  float64\n",
      " 8   Customer_Existing_Primary_Bank_Code  68797 non-null  object \n",
      " 9   Primary_Bank_Type                    68797 non-null  object \n",
      " 10  Contacted                            68797 non-null  object \n",
      " 11  Source                               68797 non-null  object \n",
      " 12  Source_Category                      68797 non-null  object \n",
      " 13  Existing_EMI                         68797 non-null  float64\n",
      " 14  Loan_Amount                          68797 non-null  float64\n",
      " 15  Loan_Period                          68797 non-null  float64\n",
      " 16  Interest_Rate                        68797 non-null  float64\n",
      " 17  EMI                                  68797 non-null  float64\n",
      " 18  Var1                                 68797 non-null  int64  \n",
      " 19  Approved                             68797 non-null  int64  \n",
      " 20  Year                                 68797 non-null  int64  \n",
      "dtypes: float64(7), int64(3), object(11)\n",
      "memory usage: 11.0+ MB\n"
     ]
    }
   ],
   "source": [
    "# Load cleaned dataset\n",
    "df = pd.read_csv(\"Bank Leads Cleaned 20240206v2.csv\")\n",
    "df.info()"
   ]
  },
  {
   "cell_type": "code",
   "execution_count": 3,
   "metadata": {},
   "outputs": [
    {
     "data": {
      "text/html": [
       "<div>\n",
       "<style scoped>\n",
       "    .dataframe tbody tr th:only-of-type {\n",
       "        vertical-align: middle;\n",
       "    }\n",
       "\n",
       "    .dataframe tbody tr th {\n",
       "        vertical-align: top;\n",
       "    }\n",
       "\n",
       "    .dataframe thead th {\n",
       "        text-align: right;\n",
       "    }\n",
       "</style>\n",
       "<table border=\"1\" class=\"dataframe\">\n",
       "  <thead>\n",
       "    <tr style=\"text-align: right;\">\n",
       "      <th></th>\n",
       "      <th>Employer_Category2</th>\n",
       "      <th>Monthly_Income</th>\n",
       "      <th>Existing_EMI</th>\n",
       "      <th>Loan_Amount</th>\n",
       "      <th>Loan_Period</th>\n",
       "      <th>Interest_Rate</th>\n",
       "      <th>EMI</th>\n",
       "      <th>Var1</th>\n",
       "      <th>Approved</th>\n",
       "      <th>Year</th>\n",
       "    </tr>\n",
       "  </thead>\n",
       "  <tbody>\n",
       "    <tr>\n",
       "      <th>count</th>\n",
       "      <td>68797.000000</td>\n",
       "      <td>68797.000000</td>\n",
       "      <td>68797.000000</td>\n",
       "      <td>68797.000000</td>\n",
       "      <td>68797.000000</td>\n",
       "      <td>68797.000000</td>\n",
       "      <td>68797.000000</td>\n",
       "      <td>68797.000000</td>\n",
       "      <td>68797.000000</td>\n",
       "      <td>68797.000000</td>\n",
       "    </tr>\n",
       "    <tr>\n",
       "      <th>mean</th>\n",
       "      <td>3.735948</td>\n",
       "      <td>3599.859583</td>\n",
       "      <td>348.049336</td>\n",
       "      <td>35692.762766</td>\n",
       "      <td>3.933471</td>\n",
       "      <td>19.215630</td>\n",
       "      <td>1082.756741</td>\n",
       "      <td>3.989723</td>\n",
       "      <td>0.014754</td>\n",
       "      <td>1985.286844</td>\n",
       "    </tr>\n",
       "    <tr>\n",
       "      <th>std</th>\n",
       "      <td>0.786844</td>\n",
       "      <td>4810.412524</td>\n",
       "      <td>938.597201</td>\n",
       "      <td>24304.447313</td>\n",
       "      <td>0.912540</td>\n",
       "      <td>3.325489</td>\n",
       "      <td>670.955220</td>\n",
       "      <td>3.815124</td>\n",
       "      <td>0.120566</td>\n",
       "      <td>7.070241</td>\n",
       "    </tr>\n",
       "    <tr>\n",
       "      <th>min</th>\n",
       "      <td>1.000000</td>\n",
       "      <td>0.000000</td>\n",
       "      <td>0.000000</td>\n",
       "      <td>5000.000000</td>\n",
       "      <td>1.000000</td>\n",
       "      <td>11.990000</td>\n",
       "      <td>118.000000</td>\n",
       "      <td>0.000000</td>\n",
       "      <td>0.000000</td>\n",
       "      <td>1930.000000</td>\n",
       "    </tr>\n",
       "    <tr>\n",
       "      <th>25%</th>\n",
       "      <td>4.000000</td>\n",
       "      <td>1640.000000</td>\n",
       "      <td>0.000000</td>\n",
       "      <td>29000.000000</td>\n",
       "      <td>4.000000</td>\n",
       "      <td>19.213570</td>\n",
       "      <td>900.387994</td>\n",
       "      <td>0.000000</td>\n",
       "      <td>0.000000</td>\n",
       "      <td>1982.000000</td>\n",
       "    </tr>\n",
       "    <tr>\n",
       "      <th>50%</th>\n",
       "      <td>4.000000</td>\n",
       "      <td>2500.000000</td>\n",
       "      <td>0.000000</td>\n",
       "      <td>30000.000000</td>\n",
       "      <td>4.000000</td>\n",
       "      <td>19.213570</td>\n",
       "      <td>900.387994</td>\n",
       "      <td>2.000000</td>\n",
       "      <td>0.000000</td>\n",
       "      <td>1987.000000</td>\n",
       "    </tr>\n",
       "    <tr>\n",
       "      <th>75%</th>\n",
       "      <td>4.000000</td>\n",
       "      <td>4000.000000</td>\n",
       "      <td>350.000000</td>\n",
       "      <td>36000.000000</td>\n",
       "      <td>4.000000</td>\n",
       "      <td>19.213570</td>\n",
       "      <td>1102.922701</td>\n",
       "      <td>7.000000</td>\n",
       "      <td>0.000000</td>\n",
       "      <td>1990.000000</td>\n",
       "    </tr>\n",
       "    <tr>\n",
       "      <th>max</th>\n",
       "      <td>4.000000</td>\n",
       "      <td>97500.000000</td>\n",
       "      <td>42000.000000</td>\n",
       "      <td>300000.000000</td>\n",
       "      <td>6.000000</td>\n",
       "      <td>37.000000</td>\n",
       "      <td>13556.000000</td>\n",
       "      <td>10.000000</td>\n",
       "      <td>1.000000</td>\n",
       "      <td>1999.000000</td>\n",
       "    </tr>\n",
       "  </tbody>\n",
       "</table>\n",
       "</div>"
      ],
      "text/plain": [
       "       Employer_Category2  Monthly_Income  Existing_EMI    Loan_Amount  \\\n",
       "count        68797.000000    68797.000000  68797.000000   68797.000000   \n",
       "mean             3.735948     3599.859583    348.049336   35692.762766   \n",
       "std              0.786844     4810.412524    938.597201   24304.447313   \n",
       "min              1.000000        0.000000      0.000000    5000.000000   \n",
       "25%              4.000000     1640.000000      0.000000   29000.000000   \n",
       "50%              4.000000     2500.000000      0.000000   30000.000000   \n",
       "75%              4.000000     4000.000000    350.000000   36000.000000   \n",
       "max              4.000000    97500.000000  42000.000000  300000.000000   \n",
       "\n",
       "        Loan_Period  Interest_Rate           EMI          Var1      Approved  \\\n",
       "count  68797.000000   68797.000000  68797.000000  68797.000000  68797.000000   \n",
       "mean       3.933471      19.215630   1082.756741      3.989723      0.014754   \n",
       "std        0.912540       3.325489    670.955220      3.815124      0.120566   \n",
       "min        1.000000      11.990000    118.000000      0.000000      0.000000   \n",
       "25%        4.000000      19.213570    900.387994      0.000000      0.000000   \n",
       "50%        4.000000      19.213570    900.387994      2.000000      0.000000   \n",
       "75%        4.000000      19.213570   1102.922701      7.000000      0.000000   \n",
       "max        6.000000      37.000000  13556.000000     10.000000      1.000000   \n",
       "\n",
       "               Year  \n",
       "count  68797.000000  \n",
       "mean    1985.286844  \n",
       "std        7.070241  \n",
       "min     1930.000000  \n",
       "25%     1982.000000  \n",
       "50%     1987.000000  \n",
       "75%     1990.000000  \n",
       "max     1999.000000  "
      ]
     },
     "execution_count": 3,
     "metadata": {},
     "output_type": "execute_result"
    }
   ],
   "source": [
    "df.describe()"
   ]
  },
  {
   "cell_type": "markdown",
   "metadata": {},
   "source": [
    "## Feature engineering "
   ]
  },
  {
   "cell_type": "code",
   "execution_count": 4,
   "metadata": {},
   "outputs": [],
   "source": [
    "# Create debt to income ratio feature\n",
    "def dti_optimized(data):\n",
    "    # Vectorized calculation\n",
    "    x = data['Existing_EMI'] / data['Monthly_Income']\n",
    "    x[data['Existing_EMI'] == 0] = 0\n",
    "    x[data['Monthly_Income'] == 0] = 1\n",
    "    return x\n",
    "\n",
    "df['Debt_Income'] = dti_optimized(df)\n",
    "\n",
    "# Create Total Loan feature\n",
    "def total_loan_optimized(data):\n",
    "    return data['Loan_Amount'] * (1 + (data['Interest_Rate']/100)) ** data['Loan_Period']\n",
    "\n",
    "df['Total_Loan'] = total_loan_optimized(df)\n",
    "\n",
    "# Create Age feature \n",
    "df['Age'] = 2024 - df['Year']\n",
    "\n",
    "# Drop unusable features \n",
    "df.drop(['Lead_Creation_Date', 'DOB', 'City_Code', 'Customer_Existing_Primary_Bank_Code', 'Source'], axis=1, inplace=True)\n"
   ]
  },
  {
   "cell_type": "markdown",
   "metadata": {},
   "source": [
    "## Categorical encoding "
   ]
  },
  {
   "cell_type": "code",
   "execution_count": 5,
   "metadata": {},
   "outputs": [],
   "source": [
    "df['Employer_Category2'] = df['Employer_Category2'].astype(str)"
   ]
  },
  {
   "cell_type": "code",
   "execution_count": 6,
   "metadata": {},
   "outputs": [],
   "source": [
    "cat_feats = df[['Gender', 'City_Category', 'Employer_Category1', 'Employer_Category2', 'Primary_Bank_Type', 'Contacted', 'Source_Category']]\n",
    "\n",
    "df = pd.get_dummies(df, columns=cat_feats.columns, drop_first=True, dtype=int)"
   ]
  },
  {
   "cell_type": "code",
   "execution_count": 7,
   "metadata": {},
   "outputs": [],
   "source": [
    "df.drop(['Year'], axis=1, inplace=True)"
   ]
  },
  {
   "cell_type": "code",
   "execution_count": 8,
   "metadata": {},
   "outputs": [],
   "source": [
    "df.drop(['Var1'], axis=1, inplace=True)"
   ]
  },
  {
   "cell_type": "code",
   "execution_count": 9,
   "metadata": {},
   "outputs": [
    {
     "name": "stdout",
     "output_type": "stream",
     "text": [
      "<class 'pandas.core.frame.DataFrame'>\n",
      "RangeIndex: 68797 entries, 0 to 68796\n",
      "Data columns (total 26 columns):\n",
      " #   Column                  Non-Null Count  Dtype  \n",
      "---  ------                  --------------  -----  \n",
      " 0   Monthly_Income          68797 non-null  float64\n",
      " 1   Existing_EMI            68797 non-null  float64\n",
      " 2   Loan_Amount             68797 non-null  float64\n",
      " 3   Loan_Period             68797 non-null  float64\n",
      " 4   Interest_Rate           68797 non-null  float64\n",
      " 5   EMI                     68797 non-null  float64\n",
      " 6   Approved                68797 non-null  int64  \n",
      " 7   Debt_Income             68797 non-null  float64\n",
      " 8   Total_Loan              68797 non-null  float64\n",
      " 9   Age                     68797 non-null  int64  \n",
      " 10  Gender_Male             68797 non-null  int32  \n",
      " 11  City_Category_B         68797 non-null  int32  \n",
      " 12  City_Category_C         68797 non-null  int32  \n",
      " 13  Employer_Category1_B    68797 non-null  int32  \n",
      " 14  Employer_Category1_C    68797 non-null  int32  \n",
      " 15  Employer_Category2_2.0  68797 non-null  int32  \n",
      " 16  Employer_Category2_3.0  68797 non-null  int32  \n",
      " 17  Employer_Category2_4.0  68797 non-null  int32  \n",
      " 18  Primary_Bank_Type_P     68797 non-null  int32  \n",
      " 19  Contacted_Y             68797 non-null  int32  \n",
      " 20  Source_Category_B       68797 non-null  int32  \n",
      " 21  Source_Category_C       68797 non-null  int32  \n",
      " 22  Source_Category_D       68797 non-null  int32  \n",
      " 23  Source_Category_E       68797 non-null  int32  \n",
      " 24  Source_Category_F       68797 non-null  int32  \n",
      " 25  Source_Category_G       68797 non-null  int32  \n",
      "dtypes: float64(8), int32(16), int64(2)\n",
      "memory usage: 9.4 MB\n"
     ]
    }
   ],
   "source": [
    "df.info()"
   ]
  },
  {
   "cell_type": "markdown",
   "metadata": {},
   "source": [
    "## Split the data "
   ]
  },
  {
   "cell_type": "code",
   "execution_count": 10,
   "metadata": {},
   "outputs": [],
   "source": [
    "seed = 42\n",
    "\n",
    "X = df.drop(['Approved'], axis=1)\n",
    "y = df['Approved']\n",
    "\n",
    "X_train, X_test, y_train, y_test = train_test_split(X, y, test_size=0.2, random_state=seed)"
   ]
  },
  {
   "cell_type": "markdown",
   "metadata": {},
   "source": [
    "## Numerical scaling"
   ]
  },
  {
   "cell_type": "code",
   "execution_count": 11,
   "metadata": {},
   "outputs": [],
   "source": [
    "numeric_feats = X_train[['Monthly_Income', 'Existing_EMI', 'Loan_Amount', 'Loan_Period', 'Interest_Rate', 'EMI', 'Debt_Income', 'Total_Loan', 'Age']]\n",
    "categorical_feats = X_train.drop(['Monthly_Income', 'Existing_EMI', 'Loan_Amount', 'Loan_Period', 'Interest_Rate', 'EMI', 'Debt_Income', 'Total_Loan', 'Age'], axis=1)\n",
    "\n",
    "# StandardScaler\n",
    "ss = StandardScaler()\n",
    "scaled = ss.fit_transform(numeric_feats)\n",
    "scaled_df = pd.DataFrame(scaled, index=numeric_feats.index, columns=numeric_feats.columns)\n",
    "X_train_ss = pd.concat([scaled_df, categorical_feats], axis=1)\n",
    "\n",
    "# RobustScaler \n",
    "rs = RobustScaler()\n",
    "scaled = rs.fit_transform(numeric_feats)\n",
    "scaled_df = pd.DataFrame(scaled, index=numeric_feats.index, columns=numeric_feats.columns)\n",
    "X_train_rs = pd.concat([scaled_df, categorical_feats], axis=1)"
   ]
  },
  {
   "cell_type": "markdown",
   "metadata": {},
   "source": [
    "## Feature selection "
   ]
  },
  {
   "cell_type": "code",
   "execution_count": 12,
   "metadata": {},
   "outputs": [],
   "source": [
    "# RFE - LR, SS\n",
    "lr = LogisticRegression(max_iter=400)\n",
    "\n",
    "rfe = RFE(estimator=lr, n_features_to_select=10, step=1)\n",
    "\n",
    "rfe.fit(X_train_ss, y_train)\n",
    "\n",
    "# print(\"Feature ranking: \", rfe.ranking_)\n",
    "# print(\"Feature selection: \", rfe.support_)\n",
    "\n",
    "ss_rfe_table = pd.DataFrame({\n",
    "    'Feature': X_train_ss.columns,\n",
    "    'Ranking': rfe.ranking_,\n",
    "    'SAelection': rfe.support_\n",
    "})\n",
    "\n",
    "ss_rfe_table.sort_values(by='Ranking')\n",
    "\n",
    "selected_features_ss = list(ss_rfe_table[ss_rfe_table['Ranking'] == 1]['Feature'])\n",
    "\n",
    "X_train_ss_rfe = X_train_ss[selected_features_ss]"
   ]
  },
  {
   "cell_type": "code",
   "execution_count": 13,
   "metadata": {},
   "outputs": [],
   "source": [
    "# RFE - LR, RS\n",
    "lr = LogisticRegression(max_iter=400)\n",
    "\n",
    "rfe = RFE(estimator=lr, n_features_to_select=10, step=1)\n",
    "\n",
    "rfe.fit(X_train_rs, y_train)\n",
    "\n",
    "# print(\"Feature ranking: \", rfe.ranking_)\n",
    "# print(\"Feature selection: \", rfe.support_)\n",
    "\n",
    "rs_rfe_table = pd.DataFrame({\n",
    "    'Feature': X_train_ss.columns,\n",
    "    'Ranking': rfe.ranking_,\n",
    "    'SAelection': rfe.support_\n",
    "})\n",
    "\n",
    "rs_rfe_table.sort_values(by='Ranking')\n",
    "\n",
    "selected_features_rs = list(rs_rfe_table[rs_rfe_table['Ranking'] == 1]['Feature'])\n",
    "\n",
    "X_train_rs_rfe = X_train_rs[selected_features_rs]"
   ]
  },
  {
   "cell_type": "code",
   "execution_count": 14,
   "metadata": {},
   "outputs": [],
   "source": [
    "# RFE - SVC, SS\n",
    "svc = SVC(kernel='linear')\n",
    "\n",
    "rfe = RFE(estimator=svc, n_features_to_select=10, step=1)\n",
    "\n",
    "rfe.fit(X_train_ss, y_train)\n",
    "\n",
    "svc_ss_rfe_table = pd.DataFrame({\n",
    "    'Feature': X_train_ss.columns,\n",
    "    'Ranking': rfe.ranking_,\n",
    "    'SAelection': rfe.support_\n",
    "})\n",
    "\n",
    "svc_ss_rfe_table.sort_values(by='Ranking')\n",
    "\n",
    "selected_features_svc_ss = list(svc_ss_rfe_table[svc_ss_rfe_table['Ranking'] == 1]['Feature'])\n",
    "\n",
    "X_train_svc_ss_rfe = X_train_ss[selected_features_svc_ss]"
   ]
  },
  {
   "cell_type": "markdown",
   "metadata": {},
   "source": [
    "## Sampling "
   ]
  },
  {
   "cell_type": "code",
   "execution_count": 15,
   "metadata": {},
   "outputs": [
    {
     "name": "stdout",
     "output_type": "stream",
     "text": [
      "Before SMOTE: Approved\n",
      "0    54223\n",
      "1      814\n",
      "Name: count, dtype: int64\n",
      "After SMOTE: Approved\n",
      "0    54223\n",
      "1    54223\n",
      "Name: count, dtype: int64\n"
     ]
    }
   ],
   "source": [
    "# SMOTE - LR, SS\n",
    "smote = SMOTE(random_state=seed)\n",
    "\n",
    "X_train_ss_rfe_smote, y_train_ss_smote = smote.fit_resample(X_train_ss_rfe, y_train)\n",
    "\n",
    "print(f\"Before SMOTE: {pd.Series(y_train).value_counts()}\")\n",
    "print(f\"After SMOTE: {pd.Series(y_train_ss_smote).value_counts()}\")"
   ]
  },
  {
   "cell_type": "code",
   "execution_count": 16,
   "metadata": {},
   "outputs": [
    {
     "name": "stdout",
     "output_type": "stream",
     "text": [
      "Before SMOTE: Approved\n",
      "0    54223\n",
      "1      814\n",
      "Name: count, dtype: int64\n",
      "After SMOTE: Approved\n",
      "0    54223\n",
      "1    54223\n",
      "Name: count, dtype: int64\n"
     ]
    }
   ],
   "source": [
    "# SMOTE - LR, RS \n",
    "smote = SMOTE(random_state=seed)\n",
    "\n",
    "X_train_rs_rfe_smote, y_train_rs_smote = smote.fit_resample(X_train_rs_rfe, y_train)\n",
    "\n",
    "print(f\"Before SMOTE: {pd.Series(y_train).value_counts()}\")\n",
    "print(f\"After SMOTE: {pd.Series(y_train_rs_smote).value_counts()}\")"
   ]
  },
  {
   "cell_type": "code",
   "execution_count": 17,
   "metadata": {},
   "outputs": [
    {
     "name": "stdout",
     "output_type": "stream",
     "text": [
      "Before SMOTE: Approved\n",
      "0    54223\n",
      "1      814\n",
      "Name: count, dtype: int64\n",
      "After SMOTE: Approved\n",
      "0    54223\n",
      "1    54223\n",
      "Name: count, dtype: int64\n"
     ]
    }
   ],
   "source": [
    "# SMOTE - SVC, SS\n",
    "smote = SMOTE(random_state=seed)\n",
    "\n",
    "X_train_svc_ss_rfe_smote, y_train_svc_ss_smote = smote.fit_resample(X_train_svc_ss_rfe, y_train)\n",
    "\n",
    "print(f\"Before SMOTE: {pd.Series(y_train).value_counts()}\")\n",
    "print(f\"After SMOTE: {pd.Series(y_train_svc_ss_smote).value_counts()}\")"
   ]
  },
  {
   "cell_type": "code",
   "execution_count": 18,
   "metadata": {},
   "outputs": [],
   "source": [
    "# Random oversampling"
   ]
  },
  {
   "cell_type": "code",
   "execution_count": 19,
   "metadata": {},
   "outputs": [],
   "source": [
    "# Random undersampling"
   ]
  },
  {
   "cell_type": "markdown",
   "metadata": {},
   "source": [
    "## Modelling "
   ]
  },
  {
   "cell_type": "code",
   "execution_count": 20,
   "metadata": {},
   "outputs": [
    {
     "name": "stdout",
     "output_type": "stream",
     "text": [
      "Confusion matrix.................\n",
      " [[5177 8382]\n",
      " [  23  178]]\n",
      "\n",
      "\n",
      "Classification report...............\n",
      "               precision    recall  f1-score   support\n",
      "\n",
      "           0       1.00      0.38      0.55     13559\n",
      "           1       0.02      0.89      0.04       201\n",
      "\n",
      "    accuracy                           0.39     13760\n",
      "   macro avg       0.51      0.63      0.30     13760\n",
      "weighted avg       0.98      0.39      0.54     13760\n",
      "\n",
      "\n",
      "\n",
      "Cross Validation Score...............\n",
      " [0.98524709 0.98510174 0.98510066 0.98510066 0.98510066]\n"
     ]
    }
   ],
   "source": [
    "# Logistic Regression | StandardScaler \n",
    "lr_ss = LogisticRegression(max_iter=400)\n",
    "\n",
    "lr_ss.fit(X_train_ss_rfe_smote, y_train_ss_smote)\n",
    "\n",
    "y_preds_lr_ss = lr_ss.predict(X_test[selected_features_ss])\n",
    "\n",
    "conf_matrix = confusion_matrix(y_test, y_preds_lr_ss)\n",
    "report = classification_report(y_test, y_preds_lr_ss)\n",
    "\n",
    "print(\"Confusion matrix.................\\n\", conf_matrix)\n",
    "print(\"\\n\\nClassification report...............\\n\", report)\n",
    "\n",
    "print(\"\\n\\nCross Validation Score...............\\n\", cross_val_score(lr_ss, X, y, cv=5))"
   ]
  },
  {
   "cell_type": "code",
   "execution_count": 21,
   "metadata": {},
   "outputs": [
    {
     "name": "stderr",
     "output_type": "stream",
     "text": [
      "c:\\Users\\zive9\\anaconda3\\envs\\iod\\Lib\\site-packages\\sklearn\\metrics\\_classification.py:1469: UndefinedMetricWarning: Precision and F-score are ill-defined and being set to 0.0 in labels with no predicted samples. Use `zero_division` parameter to control this behavior.\n",
      "  _warn_prf(average, modifier, msg_start, len(result))\n",
      "c:\\Users\\zive9\\anaconda3\\envs\\iod\\Lib\\site-packages\\sklearn\\metrics\\_classification.py:1469: UndefinedMetricWarning: Precision and F-score are ill-defined and being set to 0.0 in labels with no predicted samples. Use `zero_division` parameter to control this behavior.\n",
      "  _warn_prf(average, modifier, msg_start, len(result))\n",
      "c:\\Users\\zive9\\anaconda3\\envs\\iod\\Lib\\site-packages\\sklearn\\metrics\\_classification.py:1469: UndefinedMetricWarning: Precision and F-score are ill-defined and being set to 0.0 in labels with no predicted samples. Use `zero_division` parameter to control this behavior.\n",
      "  _warn_prf(average, modifier, msg_start, len(result))\n"
     ]
    },
    {
     "name": "stdout",
     "output_type": "stream",
     "text": [
      "Confusion matrix.................\n",
      " [[    0 13559]\n",
      " [    0   201]]\n",
      "\n",
      "\n",
      "Classification report...............\n",
      "               precision    recall  f1-score   support\n",
      "\n",
      "           0       0.00      0.00      0.00     13559\n",
      "           1       0.01      1.00      0.03       201\n",
      "\n",
      "    accuracy                           0.01     13760\n",
      "   macro avg       0.01      0.50      0.01     13760\n",
      "weighted avg       0.00      0.01      0.00     13760\n",
      "\n",
      "\n",
      "\n",
      "Cross Validation Score...............\n",
      " [0.98524709 0.98517442 0.98510066 0.98510066 0.98510066]\n"
     ]
    }
   ],
   "source": [
    "# Logistic Regression | RobustScaler \n",
    "lr_rs = LogisticRegression(solver='liblinear', max_iter=400)\n",
    "\n",
    "lr_rs.fit(X_train_rs_rfe_smote, y_train_rs_smote)\n",
    "\n",
    "y_preds_lr_rs = lr_rs.predict(X_test[selected_features_rs])\n",
    "\n",
    "conf_matrix = confusion_matrix(y_test, y_preds_lr_rs)\n",
    "report = classification_report(y_test, y_preds_lr_rs)\n",
    "\n",
    "print(\"Confusion matrix.................\\n\", conf_matrix)\n",
    "print(\"\\n\\nClassification report...............\\n\", report)\n",
    "print(\"\\n\\nCross Validation Score...............\\n\", cross_val_score(lr_rs, X, y, cv=5))"
   ]
  },
  {
   "cell_type": "code",
   "execution_count": 22,
   "metadata": {},
   "outputs": [],
   "source": [
    "# MLP"
   ]
  },
  {
   "cell_type": "code",
   "execution_count": 23,
   "metadata": {},
   "outputs": [
    {
     "name": "stderr",
     "output_type": "stream",
     "text": [
      "c:\\Users\\zive9\\anaconda3\\envs\\iod\\Lib\\site-packages\\sklearn\\metrics\\_classification.py:1469: UndefinedMetricWarning: Precision and F-score are ill-defined and being set to 0.0 in labels with no predicted samples. Use `zero_division` parameter to control this behavior.\n",
      "  _warn_prf(average, modifier, msg_start, len(result))\n",
      "c:\\Users\\zive9\\anaconda3\\envs\\iod\\Lib\\site-packages\\sklearn\\metrics\\_classification.py:1469: UndefinedMetricWarning: Precision and F-score are ill-defined and being set to 0.0 in labels with no predicted samples. Use `zero_division` parameter to control this behavior.\n",
      "  _warn_prf(average, modifier, msg_start, len(result))\n",
      "c:\\Users\\zive9\\anaconda3\\envs\\iod\\Lib\\site-packages\\sklearn\\metrics\\_classification.py:1469: UndefinedMetricWarning: Precision and F-score are ill-defined and being set to 0.0 in labels with no predicted samples. Use `zero_division` parameter to control this behavior.\n",
      "  _warn_prf(average, modifier, msg_start, len(result))\n"
     ]
    },
    {
     "name": "stdout",
     "output_type": "stream",
     "text": [
      "Confusion matrix.................\n",
      " [[13559     0]\n",
      " [  201     0]]\n",
      "\n",
      "\n",
      "Classification report...............\n",
      "               precision    recall  f1-score   support\n",
      "\n",
      "           0       0.99      1.00      0.99     13559\n",
      "           1       0.00      0.00      0.00       201\n",
      "\n",
      "    accuracy                           0.99     13760\n",
      "   macro avg       0.49      0.50      0.50     13760\n",
      "weighted avg       0.97      0.99      0.98     13760\n",
      "\n",
      "\n",
      "\n",
      "Cross Validation Score...............\n",
      " [0.98524709 0.98524709 0.98524602 0.98524602 0.98524602]\n"
     ]
    }
   ],
   "source": [
    "# SVC | StandardScaler\n",
    "svc = SVC(random_state=seed)\n",
    "\n",
    "svc.fit(X_train_svc_ss_rfe_smote, y_train_svc_ss_smote)\n",
    "\n",
    "y_preds = svc.predict(X_test[selected_features_svc_ss])\n",
    "\n",
    "conf_matrix = confusion_matrix(y_test, y_preds)\n",
    "report = classification_report(y_test, y_preds)\n",
    "\n",
    "print(\"Confusion matrix.................\\n\", conf_matrix)\n",
    "print(\"\\n\\nClassification report...............\\n\", report)\n",
    "print(\"\\n\\nCross Validation Score...............\\n\", cross_val_score(svc, X, y, cv=5))"
   ]
  },
  {
   "cell_type": "markdown",
   "metadata": {},
   "source": [
    "# SVC | RobustScaler\n",
    "svc = SVC(random_state=seed)\n",
    "\n",
    "svc.fit(X_train_rs_rfe_smote, y_train_rs_smote)\n",
    "\n",
    "conf_matrix = confusion_matrix(y_test, y_preds_rs)\n",
    "report = classification_report(y_test, y_preds_rs)\n",
    "\n",
    "print(\"Confusion matrix.................\\n\", conf_matrix)\n",
    "print(\"\\n\\nClassification report...............\\n\", report)"
   ]
  },
  {
   "cell_type": "markdown",
   "metadata": {},
   "source": [
    "## Testing for overfitting"
   ]
  },
  {
   "cell_type": "code",
   "execution_count": 24,
   "metadata": {},
   "outputs": [
    {
     "name": "stdout",
     "output_type": "stream",
     "text": [
      "LR, SS Training Accuracy:  0.7050236984305553\n",
      "LR, SS Test Accuracy:  0.389171511627907\n",
      "\n",
      "SVC, SS Training Accuracy:  0.7050236984305553\n",
      "SVC, SS Test Accuracy:  0.389171511627907\n"
     ]
    }
   ],
   "source": [
    "# Test LogisticRegression, StandardScaler\n",
    "train_preds = lr_ss.predict(X_train_ss_rfe_smote)\n",
    "test_preds = lr_ss.predict(X_test[selected_features_ss])\n",
    "\n",
    "print(\"LR, SS Training Accuracy: \", accuracy_score(y_train_ss_smote, train_preds))\n",
    "print(\"LR, SS Test Accuracy: \", accuracy_score(y_test, test_preds))\n",
    "\n",
    "# Test LogisticRegression, RobustScaler\n",
    "\n",
    "# Test SVC, StandardScaler\n",
    "svc_train_preds = svc.predict(X_train_svc_ss_rfe_smote)\n",
    "svc_test_preds = svc.predict(X_test[selected_features_svc_ss])\n",
    "\n",
    "print(\"\\nSVC, SS Training Accuracy: \", accuracy_score(y_train_svc_ss_smote, train_preds))\n",
    "print(\"SVC, SS Test Accuracy: \", accuracy_score(y_test, test_preds))\n",
    "\n",
    "# Test SVC, RobustScaler "
   ]
  },
  {
   "cell_type": "markdown",
   "metadata": {},
   "source": [
    "## Fine tuning"
   ]
  },
  {
   "cell_type": "code",
   "execution_count": 33,
   "metadata": {},
   "outputs": [
    {
     "name": "stdout",
     "output_type": "stream",
     "text": [
      "Fitting 5 folds for each of 8 candidates, totalling 40 fits\n",
      "Best parameters: {'C': 1, 'penalty': 'l2'}\n",
      "Best score: 0.7288604236722172\n"
     ]
    }
   ],
   "source": [
    "# Grid Search to find the best hyperparameters \n",
    "\n",
    "lr_tune = LogisticRegression(solver='liblinear', max_iter=200)\n",
    "\n",
    "param_grid = {\n",
    "    'C': [0.1, 1, 10, 100],  # Regularization strength\n",
    "    'penalty': ['l1', 'l2']  # Norm used in the penalization\n",
    "}\n",
    "\n",
    "grid_search = GridSearchCV(estimator=lr_tune, param_grid=param_grid, cv=5, verbose=1, scoring='recall')\n",
    "\n",
    "grid_search.fit(X_train_ss_rfe_smote, y_train_ss_smote)\n",
    "\n",
    "print(\"Best parameters:\", grid_search.best_params_)\n",
    "print(\"Best score:\", grid_search.best_score_)"
   ]
  },
  {
   "cell_type": "code",
   "execution_count": null,
   "metadata": {},
   "outputs": [],
   "source": []
  },
  {
   "cell_type": "code",
   "execution_count": 34,
   "metadata": {},
   "outputs": [
    {
     "name": "stdout",
     "output_type": "stream",
     "text": [
      "Confusion matrix.................\n",
      " [[5182 8377]\n",
      " [  23  178]]\n",
      "\n",
      "\n",
      "Classification report...............\n",
      "               precision    recall  f1-score   support\n",
      "\n",
      "           0       1.00      0.38      0.55     13559\n",
      "           1       0.02      0.89      0.04       201\n",
      "\n",
      "    accuracy                           0.39     13760\n",
      "   macro avg       0.51      0.63      0.30     13760\n",
      "weighted avg       0.98      0.39      0.54     13760\n",
      "\n"
     ]
    }
   ],
   "source": [
    "# Logistic Regression | StandardScaler \n",
    "lr = LogisticRegression(solver='liblinear', penalty='l2', C=1)\n",
    "\n",
    "lr.fit(X_train_ss_rfe_smote, y_train_ss_smote)\n",
    "\n",
    "y_preds_ss = lr.predict(X_test[selected_features_ss])\n",
    "\n",
    "conf_matrix = confusion_matrix(y_test, y_preds_ss)\n",
    "report = classification_report(y_test, y_preds_ss)\n",
    "\n",
    "print(\"Confusion matrix.................\\n\", conf_matrix)\n",
    "print(\"\\n\\nClassification report...............\\n\", report)"
   ]
  },
  {
   "cell_type": "code",
   "execution_count": 39,
   "metadata": {},
   "outputs": [
    {
     "name": "stdout",
     "output_type": "stream",
     "text": [
      "Confusion matrix.................\n",
      " [[4671 8888]\n",
      " [  21  180]]\n",
      "\n",
      "\n",
      "Classification report...............\n",
      "               precision    recall  f1-score   support\n",
      "\n",
      "           0       1.00      0.34      0.51     13559\n",
      "           1       0.02      0.90      0.04       201\n",
      "\n",
      "    accuracy                           0.35     13760\n",
      "   macro avg       0.51      0.62      0.28     13760\n",
      "weighted avg       0.98      0.35      0.50     13760\n",
      "\n"
     ]
    }
   ],
   "source": [
    "# Setting a new threshold to increase Recall \n",
    "\n",
    "lr = LogisticRegression(solver='liblinear', penalty='l2', C=1)\n",
    "\n",
    "lr.fit(X_train_ss_rfe_smote, y_train_ss_smote)\n",
    "\n",
    "y_preds_ss = lr.predict(X_test[selected_features_ss])\n",
    "\n",
    "probs = lr.predict_proba(X_test[selected_features_ss])\n",
    "\n",
    "new_threshold = 0.4\n",
    "\n",
    "y_pred_new_threshold = (probs[:, 1] > new_threshold).astype(int)\n",
    "\n",
    "conf_matrix = confusion_matrix(y_test, y_pred_new_threshold)\n",
    "report = classification_report(y_test, y_pred_new_threshold)\n",
    "\n",
    "print(\"Confusion matrix.................\\n\", conf_matrix)\n",
    "print(\"\\n\\nClassification report...............\\n\", report)"
   ]
  },
  {
   "cell_type": "markdown",
   "metadata": {},
   "source": [
    "## Final Model Settings"
   ]
  },
  {
   "cell_type": "code",
   "execution_count": 40,
   "metadata": {},
   "outputs": [
    {
     "name": "stdout",
     "output_type": "stream",
     "text": [
      "Confusion matrix.................\n",
      " [[4671 8888]\n",
      " [  21  180]]\n",
      "\n",
      "\n",
      "Classification report...............\n",
      "               precision    recall  f1-score   support\n",
      "\n",
      "           0       1.00      0.34      0.51     13559\n",
      "           1       0.02      0.90      0.04       201\n",
      "\n",
      "    accuracy                           0.35     13760\n",
      "   macro avg       0.51      0.62      0.28     13760\n",
      "weighted avg       0.98      0.35      0.50     13760\n",
      "\n"
     ]
    }
   ],
   "source": [
    "# To make the threshold change persist in future predictions \n",
    "\n",
    "def predict_with_custom_threshold(model, X, threshold=0.4):\n",
    "    probabilities = model.predict_proba(X)\n",
    "    return (probabilities[:, 1] > threshold).astype(int)\n",
    "\n",
    "# Usage\n",
    "y_pred_custom = predict_with_custom_threshold(lr, X_test[selected_features_ss], 0.4)\n",
    "\n",
    "conf_matrix = confusion_matrix(y_test, y_pred_custom)\n",
    "report = classification_report(y_test, y_pred_custom)\n",
    "\n",
    "print(\"Confusion matrix.................\\n\", conf_matrix)\n",
    "print(\"\\n\\nClassification report...............\\n\", report)\n"
   ]
  },
  {
   "cell_type": "code",
   "execution_count": null,
   "metadata": {},
   "outputs": [],
   "source": []
  }
 ],
 "metadata": {
  "kernelspec": {
   "display_name": "Python 3 (ipykernel)",
   "language": "python",
   "name": "python3"
  },
  "language_info": {
   "codemirror_mode": {
    "name": "ipython",
    "version": 3
   },
   "file_extension": ".py",
   "mimetype": "text/x-python",
   "name": "python",
   "nbconvert_exporter": "python",
   "pygments_lexer": "ipython3",
   "version": "3.11.5"
  }
 },
 "nbformat": 4,
 "nbformat_minor": 4
}
