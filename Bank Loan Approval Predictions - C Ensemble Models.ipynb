{
 "cells": [
  {
   "cell_type": "code",
   "execution_count": 1,
   "metadata": {},
   "outputs": [],
   "source": [
    "import numpy as np\n",
    "import pandas as pd\n",
    "import matplotlib.pyplot as plt\n",
    "\n",
    "from sklearn.preprocessing import StandardScaler\n",
    "from sklearn.model_selection import train_test_split, cross_val_score, GridSearchCV\n",
    "from imblearn.over_sampling import SMOTE\n",
    "from sklearn.feature_selection import RFE\n",
    "\n",
    "from sklearn.ensemble import RandomForestClassifier\n",
    "from xgboost import XGBClassifier\n",
    "\n",
    "from sklearn.metrics import accuracy_score, confusion_matrix, classification_report\n",
    "\n",
    "seed=42"
   ]
  },
  {
   "cell_type": "code",
   "execution_count": 2,
   "metadata": {},
   "outputs": [
    {
     "name": "stdout",
     "output_type": "stream",
     "text": [
      "<class 'pandas.core.frame.DataFrame'>\n",
      "RangeIndex: 68797 entries, 0 to 68796\n",
      "Data columns (total 21 columns):\n",
      " #   Column                               Non-Null Count  Dtype  \n",
      "---  ------                               --------------  -----  \n",
      " 0   Gender                               68797 non-null  object \n",
      " 1   DOB                                  68797 non-null  object \n",
      " 2   Lead_Creation_Date                   68797 non-null  object \n",
      " 3   City_Code                            68797 non-null  object \n",
      " 4   City_Category                        68797 non-null  object \n",
      " 5   Employer_Category1                   68797 non-null  object \n",
      " 6   Employer_Category2                   68797 non-null  float64\n",
      " 7   Monthly_Income                       68797 non-null  float64\n",
      " 8   Customer_Existing_Primary_Bank_Code  68797 non-null  object \n",
      " 9   Primary_Bank_Type                    68797 non-null  object \n",
      " 10  Contacted                            68797 non-null  object \n",
      " 11  Source                               68797 non-null  object \n",
      " 12  Source_Category                      68797 non-null  object \n",
      " 13  Existing_EMI                         68797 non-null  float64\n",
      " 14  Loan_Amount                          68797 non-null  float64\n",
      " 15  Loan_Period                          68797 non-null  float64\n",
      " 16  Interest_Rate                        68797 non-null  float64\n",
      " 17  EMI                                  68797 non-null  float64\n",
      " 18  Var1                                 68797 non-null  int64  \n",
      " 19  Approved                             68797 non-null  int64  \n",
      " 20  Year                                 68797 non-null  int64  \n",
      "dtypes: float64(7), int64(3), object(11)\n",
      "memory usage: 11.0+ MB\n"
     ]
    }
   ],
   "source": [
    "# Load cleaned dataset\n",
    "df = pd.read_csv(\"Bank Leads Cleaned 20240206v2.csv\")\n",
    "df.info()"
   ]
  },
  {
   "cell_type": "code",
   "execution_count": 3,
   "metadata": {},
   "outputs": [
    {
     "data": {
      "text/html": [
       "<div>\n",
       "<style scoped>\n",
       "    .dataframe tbody tr th:only-of-type {\n",
       "        vertical-align: middle;\n",
       "    }\n",
       "\n",
       "    .dataframe tbody tr th {\n",
       "        vertical-align: top;\n",
       "    }\n",
       "\n",
       "    .dataframe thead th {\n",
       "        text-align: right;\n",
       "    }\n",
       "</style>\n",
       "<table border=\"1\" class=\"dataframe\">\n",
       "  <thead>\n",
       "    <tr style=\"text-align: right;\">\n",
       "      <th></th>\n",
       "      <th>Gender</th>\n",
       "      <th>DOB</th>\n",
       "      <th>Lead_Creation_Date</th>\n",
       "      <th>City_Code</th>\n",
       "      <th>City_Category</th>\n",
       "      <th>Employer_Category1</th>\n",
       "      <th>Employer_Category2</th>\n",
       "      <th>Monthly_Income</th>\n",
       "      <th>Customer_Existing_Primary_Bank_Code</th>\n",
       "      <th>Primary_Bank_Type</th>\n",
       "      <th>...</th>\n",
       "      <th>Source</th>\n",
       "      <th>Source_Category</th>\n",
       "      <th>Existing_EMI</th>\n",
       "      <th>Loan_Amount</th>\n",
       "      <th>Loan_Period</th>\n",
       "      <th>Interest_Rate</th>\n",
       "      <th>EMI</th>\n",
       "      <th>Var1</th>\n",
       "      <th>Approved</th>\n",
       "      <th>Year</th>\n",
       "    </tr>\n",
       "  </thead>\n",
       "  <tbody>\n",
       "    <tr>\n",
       "      <th>0</th>\n",
       "      <td>Female</td>\n",
       "      <td>1979-07-23</td>\n",
       "      <td>2016-07-15</td>\n",
       "      <td>C10001</td>\n",
       "      <td>A</td>\n",
       "      <td>A</td>\n",
       "      <td>4.0</td>\n",
       "      <td>2000.0</td>\n",
       "      <td>B001</td>\n",
       "      <td>P</td>\n",
       "      <td>...</td>\n",
       "      <td>S122</td>\n",
       "      <td>G</td>\n",
       "      <td>0.0</td>\n",
       "      <td>30000.0</td>\n",
       "      <td>4.0</td>\n",
       "      <td>19.21357</td>\n",
       "      <td>900.387994</td>\n",
       "      <td>0</td>\n",
       "      <td>0</td>\n",
       "      <td>1979</td>\n",
       "    </tr>\n",
       "    <tr>\n",
       "      <th>1</th>\n",
       "      <td>Male</td>\n",
       "      <td>1986-12-07</td>\n",
       "      <td>2016-07-04</td>\n",
       "      <td>C10003</td>\n",
       "      <td>A</td>\n",
       "      <td>C</td>\n",
       "      <td>1.0</td>\n",
       "      <td>3500.0</td>\n",
       "      <td>B002</td>\n",
       "      <td>P</td>\n",
       "      <td>...</td>\n",
       "      <td>S122</td>\n",
       "      <td>G</td>\n",
       "      <td>0.0</td>\n",
       "      <td>20000.0</td>\n",
       "      <td>2.0</td>\n",
       "      <td>13.25000</td>\n",
       "      <td>953.000000</td>\n",
       "      <td>10</td>\n",
       "      <td>0</td>\n",
       "      <td>1986</td>\n",
       "    </tr>\n",
       "    <tr>\n",
       "      <th>2</th>\n",
       "      <td>Male</td>\n",
       "      <td>1982-12-10</td>\n",
       "      <td>2016-07-19</td>\n",
       "      <td>C10125</td>\n",
       "      <td>C</td>\n",
       "      <td>C</td>\n",
       "      <td>4.0</td>\n",
       "      <td>2250.0</td>\n",
       "      <td>B003</td>\n",
       "      <td>G</td>\n",
       "      <td>...</td>\n",
       "      <td>S143</td>\n",
       "      <td>B</td>\n",
       "      <td>0.0</td>\n",
       "      <td>45000.0</td>\n",
       "      <td>4.0</td>\n",
       "      <td>19.21357</td>\n",
       "      <td>1350.581991</td>\n",
       "      <td>0</td>\n",
       "      <td>0</td>\n",
       "      <td>1982</td>\n",
       "    </tr>\n",
       "    <tr>\n",
       "      <th>3</th>\n",
       "      <td>Male</td>\n",
       "      <td>1989-01-30</td>\n",
       "      <td>2016-07-09</td>\n",
       "      <td>C10477</td>\n",
       "      <td>C</td>\n",
       "      <td>A</td>\n",
       "      <td>4.0</td>\n",
       "      <td>3500.0</td>\n",
       "      <td>B003</td>\n",
       "      <td>G</td>\n",
       "      <td>...</td>\n",
       "      <td>S143</td>\n",
       "      <td>B</td>\n",
       "      <td>0.0</td>\n",
       "      <td>92000.0</td>\n",
       "      <td>5.0</td>\n",
       "      <td>19.21357</td>\n",
       "      <td>2397.355046</td>\n",
       "      <td>7</td>\n",
       "      <td>0</td>\n",
       "      <td>1989</td>\n",
       "    </tr>\n",
       "    <tr>\n",
       "      <th>4</th>\n",
       "      <td>Male</td>\n",
       "      <td>1985-04-19</td>\n",
       "      <td>2016-07-20</td>\n",
       "      <td>C10002</td>\n",
       "      <td>A</td>\n",
       "      <td>A</td>\n",
       "      <td>4.0</td>\n",
       "      <td>10000.0</td>\n",
       "      <td>B001</td>\n",
       "      <td>P</td>\n",
       "      <td>...</td>\n",
       "      <td>S134</td>\n",
       "      <td>B</td>\n",
       "      <td>2500.0</td>\n",
       "      <td>50000.0</td>\n",
       "      <td>2.0</td>\n",
       "      <td>19.21357</td>\n",
       "      <td>2525.622064</td>\n",
       "      <td>10</td>\n",
       "      <td>0</td>\n",
       "      <td>1985</td>\n",
       "    </tr>\n",
       "  </tbody>\n",
       "</table>\n",
       "<p>5 rows × 21 columns</p>\n",
       "</div>"
      ],
      "text/plain": [
       "   Gender         DOB Lead_Creation_Date City_Code City_Category  \\\n",
       "0  Female  1979-07-23         2016-07-15    C10001             A   \n",
       "1    Male  1986-12-07         2016-07-04    C10003             A   \n",
       "2    Male  1982-12-10         2016-07-19    C10125             C   \n",
       "3    Male  1989-01-30         2016-07-09    C10477             C   \n",
       "4    Male  1985-04-19         2016-07-20    C10002             A   \n",
       "\n",
       "  Employer_Category1  Employer_Category2  Monthly_Income  \\\n",
       "0                  A                 4.0          2000.0   \n",
       "1                  C                 1.0          3500.0   \n",
       "2                  C                 4.0          2250.0   \n",
       "3                  A                 4.0          3500.0   \n",
       "4                  A                 4.0         10000.0   \n",
       "\n",
       "  Customer_Existing_Primary_Bank_Code Primary_Bank_Type  ... Source  \\\n",
       "0                                B001                 P  ...   S122   \n",
       "1                                B002                 P  ...   S122   \n",
       "2                                B003                 G  ...   S143   \n",
       "3                                B003                 G  ...   S143   \n",
       "4                                B001                 P  ...   S134   \n",
       "\n",
       "  Source_Category Existing_EMI  Loan_Amount  Loan_Period  Interest_Rate  \\\n",
       "0               G          0.0      30000.0          4.0       19.21357   \n",
       "1               G          0.0      20000.0          2.0       13.25000   \n",
       "2               B          0.0      45000.0          4.0       19.21357   \n",
       "3               B          0.0      92000.0          5.0       19.21357   \n",
       "4               B       2500.0      50000.0          2.0       19.21357   \n",
       "\n",
       "           EMI  Var1  Approved  Year  \n",
       "0   900.387994     0         0  1979  \n",
       "1   953.000000    10         0  1986  \n",
       "2  1350.581991     0         0  1982  \n",
       "3  2397.355046     7         0  1989  \n",
       "4  2525.622064    10         0  1985  \n",
       "\n",
       "[5 rows x 21 columns]"
      ]
     },
     "execution_count": 3,
     "metadata": {},
     "output_type": "execute_result"
    }
   ],
   "source": [
    "df.head()"
   ]
  },
  {
   "cell_type": "code",
   "execution_count": 4,
   "metadata": {},
   "outputs": [
    {
     "data": {
      "text/plain": [
       "Approved\n",
       "0    67782\n",
       "1     1015\n",
       "Name: count, dtype: int64"
      ]
     },
     "execution_count": 4,
     "metadata": {},
     "output_type": "execute_result"
    }
   ],
   "source": [
    "df[\"Approved\"].value_counts()"
   ]
  },
  {
   "cell_type": "code",
   "execution_count": 5,
   "metadata": {},
   "outputs": [
    {
     "name": "stdout",
     "output_type": "stream",
     "text": [
      "Gender: 1, object\n",
      "DOB: 1, object\n",
      "Lead_Creation_Date: 1, object\n",
      "City_Code: 1, object\n",
      "City_Category: 1, object\n",
      "Employer_Category1: 1, object\n",
      "Employer_Category2: 1, float64\n",
      "Monthly_Income: 1, float64\n",
      "Customer_Existing_Primary_Bank_Code: 1, object\n",
      "Primary_Bank_Type: 1, object\n",
      "Contacted: 1, object\n",
      "Source: 1, object\n",
      "Source_Category: 1, object\n",
      "Existing_EMI: 1, float64\n",
      "Loan_Amount: 1, float64\n",
      "Loan_Period: 1, float64\n",
      "Interest_Rate: 1, float64\n",
      "EMI: 1, float64\n",
      "Var1: 1, int64\n",
      "Approved: 1, int64\n",
      "Year: 1, int64\n"
     ]
    }
   ],
   "source": [
    "# For each feature in the dataset, count the number of datatypes it contains\n",
    "for col in df:\n",
    "    data_types = df[col].dtypes\n",
    "    unique_dtypes = len(np.unique(data_types))\n",
    "    print(f\"{col}: {unique_dtypes}, {data_types}\")\n"
   ]
  },
  {
   "cell_type": "code",
   "execution_count": 6,
   "metadata": {},
   "outputs": [
    {
     "name": "stdout",
     "output_type": "stream",
     "text": [
      "Gender: 2\n",
      "DOB: 10711\n",
      "Lead_Creation_Date: 92\n",
      "City_Code: 678\n",
      "City_Category: 3\n",
      "Employer_Category1: 3\n",
      "Customer_Existing_Primary_Bank_Code: 51\n",
      "Primary_Bank_Type: 2\n",
      "Contacted: 2\n",
      "Source: 29\n",
      "Source_Category: 7\n"
     ]
    }
   ],
   "source": [
    "#  Check how many unique values in features that aren't float or int\n",
    "for col in df:\n",
    "    if df[col].dtypes == object:\n",
    "        print(f\"{col}: {len(df[col].unique())}\")"
   ]
  },
  {
   "cell_type": "markdown",
   "metadata": {},
   "source": [
    "### Feature Engineering"
   ]
  },
  {
   "cell_type": "code",
   "execution_count": 7,
   "metadata": {},
   "outputs": [],
   "source": [
    "# Create debt to income ratio feature\n",
    "def dti_optimized(data):\n",
    "    # Vectorized calculation\n",
    "    x = data['Existing_EMI'] / data['Monthly_Income']\n",
    "    x[data['Existing_EMI'] == 0] = 0\n",
    "    x[data['Monthly_Income'] == 0] = 1\n",
    "    return x\n",
    "\n",
    "df['Debt_Income'] = dti_optimized(df)\n",
    "\n",
    "# Create Total Loan feature\n",
    "def total_loan_optimized(data):\n",
    "    # Ensure the calculation is vectorized\n",
    "    return data['Loan_Amount'] * (1 + (data['Interest_Rate']/100)) ** data['Loan_Period']\n",
    "\n",
    "df['Total_Loan'] = total_loan_optimized(df)\n",
    "\n",
    "# Create Age feature\n",
    "df['Age'] = 2024 - df['Year']\n",
    "\n",
    "# Drop unusable features\n",
    "df.drop(['Lead_Creation_Date', 'DOB', 'City_Code', 'Customer_Existing_Primary_Bank_Code', 'Source', 'Year', 'Var1'], axis=1, inplace=True)\n",
    "\n",
    "# Convert dtype to str\n",
    "df['Employer_Category2'] = df['Employer_Category2'].astype(str)\n"
   ]
  },
  {
   "cell_type": "markdown",
   "metadata": {},
   "source": [
    "### Feature Encoding"
   ]
  },
  {
   "cell_type": "code",
   "execution_count": 8,
   "metadata": {},
   "outputs": [],
   "source": [
    "cat_feats = df[['Gender', 'City_Category', 'Employer_Category1', 'Employer_Category2', 'Primary_Bank_Type', 'Contacted', 'Source_Category']]\n",
    "\n",
    "df = pd.get_dummies(df, columns=cat_feats.columns, drop_first=True, dtype=int)"
   ]
  },
  {
   "cell_type": "code",
   "execution_count": 9,
   "metadata": {},
   "outputs": [
    {
     "name": "stdout",
     "output_type": "stream",
     "text": [
      "<class 'pandas.core.frame.DataFrame'>\n",
      "RangeIndex: 68797 entries, 0 to 68796\n",
      "Data columns (total 26 columns):\n",
      " #   Column                  Non-Null Count  Dtype  \n",
      "---  ------                  --------------  -----  \n",
      " 0   Monthly_Income          68797 non-null  float64\n",
      " 1   Existing_EMI            68797 non-null  float64\n",
      " 2   Loan_Amount             68797 non-null  float64\n",
      " 3   Loan_Period             68797 non-null  float64\n",
      " 4   Interest_Rate           68797 non-null  float64\n",
      " 5   EMI                     68797 non-null  float64\n",
      " 6   Approved                68797 non-null  int64  \n",
      " 7   Debt_Income             68797 non-null  float64\n",
      " 8   Total_Loan              68797 non-null  float64\n",
      " 9   Age                     68797 non-null  int64  \n",
      " 10  Gender_Male             68797 non-null  int32  \n",
      " 11  City_Category_B         68797 non-null  int32  \n",
      " 12  City_Category_C         68797 non-null  int32  \n",
      " 13  Employer_Category1_B    68797 non-null  int32  \n",
      " 14  Employer_Category1_C    68797 non-null  int32  \n",
      " 15  Employer_Category2_2.0  68797 non-null  int32  \n",
      " 16  Employer_Category2_3.0  68797 non-null  int32  \n",
      " 17  Employer_Category2_4.0  68797 non-null  int32  \n",
      " 18  Primary_Bank_Type_P     68797 non-null  int32  \n",
      " 19  Contacted_Y             68797 non-null  int32  \n",
      " 20  Source_Category_B       68797 non-null  int32  \n",
      " 21  Source_Category_C       68797 non-null  int32  \n",
      " 22  Source_Category_D       68797 non-null  int32  \n",
      " 23  Source_Category_E       68797 non-null  int32  \n",
      " 24  Source_Category_F       68797 non-null  int32  \n",
      " 25  Source_Category_G       68797 non-null  int32  \n",
      "dtypes: float64(8), int32(16), int64(2)\n",
      "memory usage: 9.4 MB\n"
     ]
    }
   ],
   "source": [
    "df.info()"
   ]
  },
  {
   "cell_type": "markdown",
   "metadata": {},
   "source": [
    "### Format the data"
   ]
  },
  {
   "cell_type": "code",
   "execution_count": 10,
   "metadata": {},
   "outputs": [],
   "source": [
    "X = df.drop('Approved', axis=1)\n",
    "y = df['Approved']\n",
    "\n",
    "# Split the data\n",
    "X_train, X_test, y_train, y_test = train_test_split(X, y, test_size=0.2, random_state=seed)"
   ]
  },
  {
   "cell_type": "markdown",
   "metadata": {},
   "source": [
    "### Sampling"
   ]
  },
  {
   "cell_type": "code",
   "execution_count": 11,
   "metadata": {},
   "outputs": [],
   "source": [
    "# Use SMOTE to oversample the minority class\n",
    "smote = SMOTE(random_state=seed) \n",
    "\n",
    "X_train_smote, y_train_smote = smote.fit_resample(X_train, y_train)"
   ]
  },
  {
   "cell_type": "code",
   "execution_count": 12,
   "metadata": {},
   "outputs": [
    {
     "data": {
      "text/plain": [
       "Approved\n",
       "0    54223\n",
       "1    54223\n",
       "Name: count, dtype: int64"
      ]
     },
     "execution_count": 12,
     "metadata": {},
     "output_type": "execute_result"
    }
   ],
   "source": [
    "y_train_smote.value_counts()"
   ]
  },
  {
   "cell_type": "markdown",
   "metadata": {},
   "source": [
    "### Random Forest Classifier"
   ]
  },
  {
   "cell_type": "code",
   "execution_count": 13,
   "metadata": {},
   "outputs": [],
   "source": [
    "# Use RFE to reduce dimensionality \n",
    "rfe_rfc = RFE(RandomForestClassifier(random_state=seed), n_features_to_select=10)\n",
    "\n",
    "rfe_rfc.fit(X_train_smote, y_train_smote)\n",
    "\n",
    "rfe_rfc_table = pd.DataFrame({\n",
    "    'Feature': X_train_smote.columns,\n",
    "    'Ranking': rfe_rfc.ranking_,\n",
    "    'SAelection': rfe_rfc.support_\n",
    "})\n",
    "\n",
    "rfe_rfc_table.sort_values(by='Ranking')\n",
    "\n",
    "selected_features = list(rfe_rfc_table[rfe_rfc_table['Ranking'] == 1]['Feature'])\n",
    "\n",
    "X_train_sampled_selected = X_train_smote[selected_features]"
   ]
  },
  {
   "cell_type": "code",
   "execution_count": 18,
   "metadata": {},
   "outputs": [
    {
     "name": "stdout",
     "output_type": "stream",
     "text": [
      "Fitting 5 folds for each of 54 candidates, totalling 270 fits\n",
      "Best parameters: {'bootstrap': False, 'criterion': 'gini', 'max_depth': 1, 'n_estimators': 100}\n",
      "Best score: 0.9011306343927095\n"
     ]
    }
   ],
   "source": [
    "# Use Grid Search to find the best parameters\n",
    "\n",
    "param_grid = {\n",
    "    'n_estimators': [50, 100, 200],\n",
    "    'max_depth': [1, 2, 4],\n",
    "    'criterion': ['gini', 'entropy', 'log_loss'],\n",
    "    'bootstrap': [True, False]\n",
    "}\n",
    "\n",
    "rfc_tune = RandomForestClassifier(random_state=seed)\n",
    "\n",
    "grid_search = GridSearchCV(estimator=rfc_tune, \n",
    "                           param_grid=param_grid, \n",
    "                           cv=5, \n",
    "                           n_jobs=-1, \n",
    "                           verbose=2,\n",
    "                           scoring='recall'\n",
    "                           )\n",
    "\n",
    "grid_search.fit(X_train_sampled_selected, y_train_smote)\n",
    "\n",
    "print(\"Best parameters:\", grid_search.best_params_)\n",
    "print(\"Best score:\", grid_search.best_score_)\n",
    "best_params = grid_search.best_params_"
   ]
  },
  {
   "cell_type": "code",
   "execution_count": 19,
   "metadata": {},
   "outputs": [
    {
     "name": "stdout",
     "output_type": "stream",
     "text": [
      "Accuracy: 0.6543604651162791\n"
     ]
    }
   ],
   "source": [
    "# Instantiate the model\n",
    "rf = RandomForestClassifier(**best_params, random_state=seed)\n",
    "\n",
    "# Fit the model\n",
    "rf.fit(X_train_sampled_selected, y_train_smote)\n",
    "\n",
    "# Predict the test set\n",
    "y_pred = rf.predict(X_test[selected_features])\n",
    "\n",
    "# Calculate the accuracy\n",
    "accuracy = accuracy_score(y_test, y_pred)\n",
    "print(f\"Accuracy: {accuracy}\")"
   ]
  },
  {
   "cell_type": "code",
   "execution_count": 20,
   "metadata": {},
   "outputs": [
    {
     "name": "stdout",
     "output_type": "stream",
     "text": [
      "Cross Validation...................\n",
      " 0.985246449681139\n",
      "\n",
      "\n",
      "Confusion Matrix.............\n",
      " [[8844 4715]\n",
      " [  41  160]]\n",
      "\n",
      "\n",
      "Classification Report..................\n",
      "               precision    recall  f1-score   support\n",
      "\n",
      "           0       1.00      0.65      0.79     13559\n",
      "           1       0.03      0.80      0.06       201\n",
      "\n",
      "    accuracy                           0.65     13760\n",
      "   macro avg       0.51      0.72      0.43     13760\n",
      "weighted avg       0.98      0.65      0.78     13760\n",
      "\n"
     ]
    }
   ],
   "source": [
    "# Cross validate the model\n",
    "cv = cross_val_score(rf, X, y, cv=5)\n",
    "print(f\"Cross Validation...................\\n {np.mean(cv)}\")\n",
    "\n",
    "# Confusion matrix\n",
    "cm = confusion_matrix(y_test, y_pred)\n",
    "print(f\"\\n\\nConfusion Matrix.............\\n {cm}\")\n",
    "\n",
    "# Classification report\n",
    "cr = classification_report(y_test, y_pred)\n",
    "print(f\"\\n\\nClassification Report..................\\n {cr}\")"
   ]
  },
  {
   "cell_type": "code",
   "execution_count": null,
   "metadata": {},
   "outputs": [],
   "source": []
  },
  {
   "cell_type": "markdown",
   "metadata": {},
   "source": [
    "### XGB Classifier"
   ]
  },
  {
   "cell_type": "code",
   "execution_count": 21,
   "metadata": {},
   "outputs": [],
   "source": [
    "# Use RFE to reduce dimensionality \n",
    "rfe_xgbc = RFE(XGBClassifier(random_state=seed), n_features_to_select=10)\n",
    "\n",
    "rfe_xgbc.fit(X_train_smote, y_train_smote)\n",
    "\n",
    "rfe_xgbc_table = pd.DataFrame({\n",
    "    'Feature': X_train_smote.columns,\n",
    "    'Ranking': rfe_xgbc.ranking_,\n",
    "    'Selection': rfe_xgbc.support_\n",
    "})\n",
    "\n",
    "rfe_xgbc_table.sort_values(by='Ranking')\n",
    "\n",
    "selected_features = list(rfe_xgbc_table[rfe_xgbc_table['Ranking'] == 1]['Feature'])\n",
    "\n",
    "X_train_sampled_selected = X_train_smote[selected_features]"
   ]
  },
  {
   "cell_type": "code",
   "execution_count": 30,
   "metadata": {},
   "outputs": [
    {
     "name": "stdout",
     "output_type": "stream",
     "text": [
      "Fitting 5 folds for each of 81 candidates, totalling 405 fits\n",
      "Best parameters: {'learning_rate': 0.1, 'max_depth': 1, 'min_child_weight': 1, 'n_estimators': 50, 'subsample': 0.3}\n",
      "Best score: 0.9231324289020076\n"
     ]
    }
   ],
   "source": [
    "# Use Grid Search to find the best parameters\n",
    "\n",
    "# param_grid = {\n",
    "#     'n_estimators': [50, 100, 200],\n",
    "#     'learning_rate': [0.1, 0.01, 0.001],\n",
    "#     'min_child_weight': [1, 5, 10],\n",
    "#     'max_depth': [1, 2, 4],\n",
    "#     'subsample': [0.3, 0.5, 0.7]\n",
    "# }\n",
    "\n",
    "param_grid = {\n",
    "    'n_estimators': [10, 25, 50],\n",
    "    'learning_rate': [0.1, 0.2, 0.3],\n",
    "    'min_child_weight': [1, 5, 10],\n",
    "    'max_depth': [1],\n",
    "    'subsample': [0.1, 0.2, 0.3]\n",
    "}\n",
    "\n",
    "xgbc_tune = XGBClassifier(random_state=seed)\n",
    "\n",
    "grid_search = GridSearchCV(estimator=xgbc_tune, \n",
    "                           param_grid=param_grid, \n",
    "                           cv=5, \n",
    "                           n_jobs=-1, \n",
    "                           verbose=2,\n",
    "                           scoring='recall'\n",
    "                           )\n",
    "\n",
    "grid_search.fit(X_train_sampled_selected, y_train_smote)\n",
    "\n",
    "print(\"Best parameters:\", grid_search.best_params_)\n",
    "print(\"Best score:\", grid_search.best_score_)\n",
    "best_params = grid_search.best_params_"
   ]
  },
  {
   "cell_type": "code",
   "execution_count": 31,
   "metadata": {},
   "outputs": [
    {
     "name": "stdout",
     "output_type": "stream",
     "text": [
      "Accuracy: 0.6698401162790698\n"
     ]
    }
   ],
   "source": [
    "# Instantiate the model\n",
    "xgbc = XGBClassifier(**best_params, random_state=seed)\n",
    "\n",
    "# Fit the model\n",
    "xgbc.fit(X_train_sampled_selected, y_train_smote)\n",
    "\n",
    "# Predict the test set\n",
    "y_pred =xgbc.predict(X_test[selected_features])\n",
    "\n",
    "# Calculate the accuracy\n",
    "accuracy = accuracy_score(y_test, y_pred)\n",
    "print(f\"Accuracy: {accuracy}\")"
   ]
  },
  {
   "cell_type": "code",
   "execution_count": 32,
   "metadata": {},
   "outputs": [
    {
     "name": "stdout",
     "output_type": "stream",
     "text": [
      "Cross Validation...................\n",
      " 0.985246449681139\n",
      "\n",
      "\n",
      "Confusion Matrix.............\n",
      " [[9064 4495]\n",
      " [  48  153]]\n",
      "\n",
      "\n",
      "Classification Report..................\n",
      "               precision    recall  f1-score   support\n",
      "\n",
      "           0       0.99      0.67      0.80     13559\n",
      "           1       0.03      0.76      0.06       201\n",
      "\n",
      "    accuracy                           0.67     13760\n",
      "   macro avg       0.51      0.71      0.43     13760\n",
      "weighted avg       0.98      0.67      0.79     13760\n",
      "\n"
     ]
    }
   ],
   "source": [
    "# Cross validate the model\n",
    "cv = cross_val_score(xgbc, X, y, cv=5)\n",
    "print(f\"Cross Validation...................\\n {np.mean(cv)}\")\n",
    "\n",
    "# Confusion matrix\n",
    "cm = confusion_matrix(y_test, y_pred)\n",
    "print(f\"\\n\\nConfusion Matrix.............\\n {cm}\")\n",
    "\n",
    "# Classification report\n",
    "cr = classification_report(y_test, y_pred)\n",
    "print(f\"\\n\\nClassification Report..................\\n {cr}\")"
   ]
  },
  {
   "cell_type": "code",
   "execution_count": null,
   "metadata": {},
   "outputs": [],
   "source": []
  },
  {
   "cell_type": "code",
   "execution_count": null,
   "metadata": {},
   "outputs": [],
   "source": []
  },
  {
   "cell_type": "code",
   "execution_count": null,
   "metadata": {},
   "outputs": [],
   "source": []
  },
  {
   "cell_type": "code",
   "execution_count": null,
   "metadata": {},
   "outputs": [],
   "source": []
  },
  {
   "cell_type": "code",
   "execution_count": null,
   "metadata": {},
   "outputs": [],
   "source": []
  },
  {
   "cell_type": "code",
   "execution_count": null,
   "metadata": {},
   "outputs": [],
   "source": []
  },
  {
   "cell_type": "code",
   "execution_count": null,
   "metadata": {},
   "outputs": [],
   "source": []
  }
 ],
 "metadata": {
  "kernelspec": {
   "display_name": "iod",
   "language": "python",
   "name": "python3"
  },
  "language_info": {
   "codemirror_mode": {
    "name": "ipython",
    "version": 3
   },
   "file_extension": ".py",
   "mimetype": "text/x-python",
   "name": "python",
   "nbconvert_exporter": "python",
   "pygments_lexer": "ipython3",
   "version": "3.11.5"
  }
 },
 "nbformat": 4,
 "nbformat_minor": 2
}
